{
 "cells": [
  {
   "cell_type": "markdown",
   "metadata": {},
   "source": [
    "# Model Training"
   ]
  },
  {
   "cell_type": "markdown",
   "metadata": {},
   "source": [
    "open mlflow with mlflow server --host 0.0.0.0 --backend-store-uri ./mlruns --artifacts-destination ./mlartifacts --dev\n",
    "mlflow.set_tracking_uri(\"http://127.0.0.1:5000\")"
   ]
  },
  {
   "cell_type": "code",
   "execution_count": 1,
   "metadata": {},
   "outputs": [],
   "source": [
    "import numpy as np\n",
    "\n",
    "\n",
    "X = np.load('data/features.npy')\n",
    "y = np.load('data/labels.npy')\n",
    "\n"
   ]
  },
  {
   "cell_type": "code",
   "execution_count": 2,
   "metadata": {},
   "outputs": [],
   "source": [
    "from sklearn.model_selection import train_test_split\n",
    "\n",
    "RANDOM_SEED = 42\n",
    "SUBSET_SIZE = 1000\n",
    "\n",
    "X_subset = X[:SUBSET_SIZE]\n",
    "y_subset = y[:SUBSET_SIZE]\n",
    "\n",
    "\n",
    "X_train, X_test, y_train, y_test = train_test_split(X_subset, y_subset, test_size=0.2, random_state=RANDOM_SEED)"
   ]
  },
  {
   "cell_type": "markdown",
   "metadata": {},
   "source": [
    "## Connect to MLFlow\n",
    "\n"
   ]
  },
  {
   "cell_type": "code",
   "execution_count": 3,
   "metadata": {},
   "outputs": [],
   "source": [
    "import mlflow\n",
    "\n",
    "EXPERIMENT_NAME = 'fake-news-detector'\n",
    "\n",
    "experiment = mlflow.get_experiment_by_name(EXPERIMENT_NAME)\n",
    "\n",
    "mlflow.set_tracking_uri(\"http://127.0.0.1:5000\")\n"
   ]
  },
  {
   "cell_type": "code",
   "execution_count": 8,
   "metadata": {},
   "outputs": [
    {
     "name": "stdout",
     "output_type": "stream",
     "text": [
      "Accuracy: 0.84\n"
     ]
    }
   ],
   "source": [
    "from sklearn.svm import SVC\n",
    "from sklearn.metrics import accuracy_score, precision_score, recall_score\n",
    "\n",
    "run_name = \"FND-1\"\n",
    "\n",
    "\n",
    "model = SVC(random_state=RANDOM_SEED)\n",
    "\n",
    "\n",
    "with mlflow.start_run(\n",
    "    experiment_id=experiment.experiment_id,\n",
    "    run_name=run_name,\n",
    ") as run:\n",
    "    \n",
    "    model.fit(X_train, y_train)\n",
    "\n",
    "    y_pred = model.predict(X_test)\n",
    "    accuracy = accuracy_score(y_test, y_pred)\n",
    "    precission = precision_score(y_test, y_pred, average=\"weighted\")\n",
    "    recall = recall_score(y_test, y_pred, average=\"weighted\")\n",
    "\n",
    "    print(f\"Accuracy: {accuracy}\")\n",
    "    \n",
    "    # Log metrics\n",
    "    mlflow.log_metric(\"accuracy\", accuracy)\n",
    "    mlflow.log_metric(\"precision\", precission)\n",
    "    mlflow.log_metric(\"recall\", recall)\n",
    "\n",
    "    # Log the model parameters\n",
    "    mlflow.log_param(\"random_seed\", RANDOM_SEED)\n",
    "    mlflow.log_param(\"model\", \"SVC\")\n",
    "\n",
    "    # log the model\n",
    "    mlflow.sklearn.log_model(model, \"model\")\n",
    "\n"
   ]
  },
  {
   "cell_type": "code",
   "execution_count": 11,
   "metadata": {},
   "outputs": [
    {
     "name": "stdout",
     "output_type": "stream",
     "text": [
      "Accuracy: 0.77\n"
     ]
    },
    {
     "name": "stderr",
     "output_type": "stream",
     "text": [
      "/opt/conda/envs/myenv/lib/python3.11/site-packages/_distutils_hack/__init__.py:18: UserWarning: Distutils was imported before Setuptools, but importing Setuptools also replaces the `distutils` module in `sys.modules`. This may lead to undesirable behaviors or errors. To avoid these issues, avoid using distutils directly, ensure that setuptools is installed in the traditional way (e.g. not an editable install), and/or make sure that setuptools is always imported before distutils.\n",
      "  warnings.warn(\n",
      "/opt/conda/envs/myenv/lib/python3.11/site-packages/_distutils_hack/__init__.py:33: UserWarning: Setuptools is replacing distutils.\n",
      "  warnings.warn(\"Setuptools is replacing distutils.\")\n"
     ]
    }
   ],
   "source": [
    "from sklearn.tree import DecisionTreeClassifier\n",
    "from sklearn.metrics import accuracy_score\n",
    "\n",
    "run_name = \"FND-5\"\n",
    "RANDOM_STATE = 42\n",
    "MAX_DEPTH = 3\n",
    "\n",
    "model = DecisionTreeClassifier(random_state=RANDOM_STATE, max_depth=MAX_DEPTH)\n",
    "\n",
    "\n",
    "with mlflow.start_run(\n",
    "    experiment_id=experiment.experiment_id,\n",
    "    run_name=run_name,\n",
    ") as run:\n",
    "    \n",
    "    model.fit(X_train, y_train)\n",
    "\n",
    "    y_pred = model.predict(X_test)\n",
    "    accuracy = accuracy_score(y_test, y_pred)\n",
    "    precission = precision_score(y_test, y_pred, average=\"weighted\")\n",
    "    recall = recall_score(y_test, y_pred, average=\"weighted\")\n",
    "\n",
    "    print(f\"Accuracy: {accuracy}\")\n",
    "    \n",
    "    # Log metrics\n",
    "    mlflow.log_metric(\"accuracy\", accuracy)\n",
    "    mlflow.log_metric(\"precision\", precission)\n",
    "    mlflow.log_metric(\"recall\", recall)\n",
    "\n",
    "    # Log the model parameters\n",
    "    mlflow.log_param(\"random_state\", RANDOM_STATE)\n",
    "    mlflow.log_param(\"model\", \"Decision Tree Classifier\")\n",
    "\n",
    "    # log the model\n",
    "    mlflow.sklearn.log_model(model, \"model\")\n",
    "\n"
   ]
  },
  {
   "cell_type": "code",
   "execution_count": 12,
   "metadata": {},
   "outputs": [
    {
     "name": "stdout",
     "output_type": "stream",
     "text": [
      "Accuracy: 0.835\n"
     ]
    },
    {
     "name": "stderr",
     "output_type": "stream",
     "text": [
      "/opt/conda/envs/myenv/lib/python3.11/site-packages/_distutils_hack/__init__.py:18: UserWarning: Distutils was imported before Setuptools, but importing Setuptools also replaces the `distutils` module in `sys.modules`. This may lead to undesirable behaviors or errors. To avoid these issues, avoid using distutils directly, ensure that setuptools is installed in the traditional way (e.g. not an editable install), and/or make sure that setuptools is always imported before distutils.\n",
      "  warnings.warn(\n",
      "/opt/conda/envs/myenv/lib/python3.11/site-packages/_distutils_hack/__init__.py:33: UserWarning: Setuptools is replacing distutils.\n",
      "  warnings.warn(\"Setuptools is replacing distutils.\")\n"
     ]
    }
   ],
   "source": [
    "from sklearn.neighbors import KNeighborsClassifier\n",
    "from sklearn.metrics import accuracy_score\n",
    "\n",
    "run_name = \"FND-15\"\n",
    "N_NEIGHBORS=14\n",
    "\n",
    "model = KNeighborsClassifier(n_neighbors=N_NEIGHBORS)\n",
    "\n",
    "\n",
    "with mlflow.start_run(\n",
    "    experiment_id=experiment.experiment_id,\n",
    "    run_name=run_name,\n",
    ") as run:\n",
    "    \n",
    "    model.fit(X_train, y_train)\n",
    "\n",
    "    y_pred = model.predict(X_test)\n",
    "    accuracy = accuracy_score(y_test, y_pred)\n",
    "    precission = precision_score(y_test, y_pred, average=\"weighted\")\n",
    "    recall = recall_score(y_test, y_pred, average=\"weighted\")\n",
    "\n",
    "    print(f\"Accuracy: {accuracy}\")\n",
    "    \n",
    "    # Log metrics\n",
    "    mlflow.log_metric(\"accuracy\", accuracy)\n",
    "    mlflow.log_metric(\"precision\", precission)\n",
    "    mlflow.log_metric(\"recall\", recall)\n",
    "\n",
    "    # Log the model parameters\n",
    "    mlflow.log_param(\"N Neighbors\", N_NEIGHBORS)\n",
    "    mlflow.log_param(\"model\", \"KNeighborsClassifier\")\n",
    "\n",
    "    # log the model\n",
    "    mlflow.sklearn.log_model(model, \"model\")\n",
    "\n"
   ]
  },
  {
   "cell_type": "code",
   "execution_count": 13,
   "metadata": {},
   "outputs": [
    {
     "name": "stdout",
     "output_type": "stream",
     "text": [
      "Accuracy: 0.85\n"
     ]
    },
    {
     "name": "stderr",
     "output_type": "stream",
     "text": [
      "/opt/conda/envs/myenv/lib/python3.11/site-packages/_distutils_hack/__init__.py:18: UserWarning: Distutils was imported before Setuptools, but importing Setuptools also replaces the `distutils` module in `sys.modules`. This may lead to undesirable behaviors or errors. To avoid these issues, avoid using distutils directly, ensure that setuptools is installed in the traditional way (e.g. not an editable install), and/or make sure that setuptools is always imported before distutils.\n",
      "  warnings.warn(\n",
      "/opt/conda/envs/myenv/lib/python3.11/site-packages/_distutils_hack/__init__.py:33: UserWarning: Setuptools is replacing distutils.\n",
      "  warnings.warn(\"Setuptools is replacing distutils.\")\n"
     ]
    }
   ],
   "source": [
    "from sklearn.ensemble import RandomForestClassifier\n",
    "from sklearn.metrics import accuracy_score\n",
    "\n",
    "run_name = \"FND-28\"\n",
    "\n",
    "MAX_DEPTH = 15\n",
    "N_ESTIMATORS = 30 \n",
    "MAX_FEATURES = 1\n",
    "\n",
    "model = RandomForestClassifier(max_depth=MAX_DEPTH, n_estimators=N_ESTIMATORS, max_features=MAX_FEATURES)\n",
    "\n",
    "\n",
    "with mlflow.start_run(\n",
    "    experiment_id=experiment.experiment_id,\n",
    "    run_name=run_name,\n",
    ") as run:\n",
    "    \n",
    "    model.fit(X_train, y_train)\n",
    "\n",
    "    y_pred = model.predict(X_test)\n",
    "    accuracy = accuracy_score(y_test, y_pred)\n",
    "    precission = precision_score(y_test, y_pred, average=\"weighted\")\n",
    "    recall = recall_score(y_test, y_pred, average=\"weighted\")\n",
    "\n",
    "    print(f\"Accuracy: {accuracy}\")\n",
    "    \n",
    "    # Log metrics\n",
    "    mlflow.log_metric(\"accuracy\", accuracy)\n",
    "    mlflow.log_metric(\"precision\", precission)\n",
    "    mlflow.log_metric(\"recall\", recall)\n",
    "\n",
    "    # Log the model parameters\n",
    "    mlflow.log_param(\"max_depth\", MAX_DEPTH)\n",
    "    mlflow.log_param(\"n_estimators\", N_ESTIMATORS)\n",
    "    mlflow.log_param(\"max_features\", MAX_FEATURES)\n",
    "    mlflow.log_param(\"model\", \"RandomForestClassifier\")\n",
    "\n",
    "    # log the model\n",
    "    mlflow.sklearn.log_model(model, \"model\")\n",
    "\n"
   ]
  },
  {
   "cell_type": "code",
   "execution_count": 15,
   "metadata": {},
   "outputs": [
    {
     "name": "stdout",
     "output_type": "stream",
     "text": [
      "Accuracy: 0.87\n"
     ]
    },
    {
     "name": "stderr",
     "output_type": "stream",
     "text": [
      "/opt/conda/envs/myenv/lib/python3.11/site-packages/_distutils_hack/__init__.py:18: UserWarning: Distutils was imported before Setuptools, but importing Setuptools also replaces the `distutils` module in `sys.modules`. This may lead to undesirable behaviors or errors. To avoid these issues, avoid using distutils directly, ensure that setuptools is installed in the traditional way (e.g. not an editable install), and/or make sure that setuptools is always imported before distutils.\n",
      "  warnings.warn(\n",
      "/opt/conda/envs/myenv/lib/python3.11/site-packages/_distutils_hack/__init__.py:33: UserWarning: Setuptools is replacing distutils.\n",
      "  warnings.warn(\"Setuptools is replacing distutils.\")\n"
     ]
    }
   ],
   "source": [
    "from sklearn.svm import SVC\n",
    "from sklearn.metrics import accuracy_score\n",
    "\n",
    "run_name = \"FND-30\"\n",
    "\n",
    "COEF = 0.05\n",
    "\n",
    "model = SVC(kernel=\"linear\", C=COEF)\n",
    "\n",
    "\n",
    "with mlflow.start_run(\n",
    "    experiment_id=experiment.experiment_id,\n",
    "    run_name=run_name,\n",
    ") as run:\n",
    "    \n",
    "    model.fit(X_train, y_train)\n",
    "\n",
    "    y_pred = model.predict(X_test)\n",
    "    accuracy = accuracy_score(y_test, y_pred)\n",
    "    precission = precision_score(y_test, y_pred, average=\"weighted\")\n",
    "    recall = recall_score(y_test, y_pred, average=\"weighted\")\n",
    "\n",
    "    print(f\"Accuracy: {accuracy}\")\n",
    "    \n",
    "    # Log metrics\n",
    "    mlflow.log_metric(\"accuracy\", accuracy)\n",
    "    mlflow.log_metric(\"precision\", precission)\n",
    "    mlflow.log_metric(\"recall\", recall)\n",
    "    mlflow.log_param(\"model\", \"SVC Linear\")\n",
    "\n",
    "    # Log the model parameters\n",
    "    mlflow.log_param(\"c\", COEF)\n",
    "    \n",
    "    # log the model\n",
    "    mlflow.sklearn.log_model(model, \"model\")\n",
    "\n"
   ]
  }
 ],
 "metadata": {
  "kernelspec": {
   "display_name": "myenv",
   "language": "python",
   "name": "python3"
  },
  "language_info": {
   "codemirror_mode": {
    "name": "ipython",
    "version": 3
   },
   "file_extension": ".py",
   "mimetype": "text/x-python",
   "name": "python",
   "nbconvert_exporter": "python",
   "pygments_lexer": "ipython3",
   "version": "3.11.5"
  }
 },
 "nbformat": 4,
 "nbformat_minor": 2
}
